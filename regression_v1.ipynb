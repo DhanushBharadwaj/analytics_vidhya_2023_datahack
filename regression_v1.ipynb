{
 "cells": [
  {
   "cell_type": "code",
   "execution_count": 1,
   "metadata": {},
   "outputs": [],
   "source": [
    "import pandas as pd\n",
    "import seaborn as sns\n",
    "import numpy as np"
   ]
  },
  {
   "cell_type": "code",
   "execution_count": 2,
   "metadata": {},
   "outputs": [],
   "source": [
    "train_data=pd.read_csv(\"train_BRCpofr.csv\")"
   ]
  },
  {
   "cell_type": "code",
   "execution_count": 4,
   "metadata": {},
   "outputs": [],
   "source": [
    "train_data.drop(\"id\",axis=1,inplace=True)"
   ]
  },
  {
   "cell_type": "code",
   "execution_count": 5,
   "metadata": {},
   "outputs": [
    {
     "name": "stdout",
     "output_type": "stream",
     "text": [
      "<class 'pandas.core.frame.DataFrame'>\n",
      "RangeIndex: 89392 entries, 0 to 89391\n",
      "Data columns (total 11 columns):\n",
      " #   Column          Non-Null Count  Dtype \n",
      "---  ------          --------------  ----- \n",
      " 0   gender          89392 non-null  object\n",
      " 1   area            89392 non-null  object\n",
      " 2   qualification   89392 non-null  object\n",
      " 3   income          89392 non-null  object\n",
      " 4   marital_status  89392 non-null  int64 \n",
      " 5   vintage         89392 non-null  int64 \n",
      " 6   claim_amount    89392 non-null  int64 \n",
      " 7   num_policies    89392 non-null  object\n",
      " 8   policy          89392 non-null  object\n",
      " 9   type_of_policy  89392 non-null  object\n",
      " 10  cltv            89392 non-null  int64 \n",
      "dtypes: int64(4), object(7)\n",
      "memory usage: 7.5+ MB\n"
     ]
    }
   ],
   "source": [
    "train_data.info()"
   ]
  },
  {
   "cell_type": "code",
   "execution_count": null,
   "metadata": {},
   "outputs": [],
   "source": []
  }
 ],
 "metadata": {
  "kernelspec": {
   "display_name": "mlenv",
   "language": "python",
   "name": "python3"
  },
  "language_info": {
   "codemirror_mode": {
    "name": "ipython",
    "version": 3
   },
   "file_extension": ".py",
   "mimetype": "text/x-python",
   "name": "python",
   "nbconvert_exporter": "python",
   "pygments_lexer": "ipython3",
   "version": "3.10.8"
  },
  "orig_nbformat": 4,
  "vscode": {
   "interpreter": {
    "hash": "66053dae47dbd059ec9635f404fcd48802ca76de831bfab6d1194af0df80fd5f"
   }
  }
 },
 "nbformat": 4,
 "nbformat_minor": 2
}
