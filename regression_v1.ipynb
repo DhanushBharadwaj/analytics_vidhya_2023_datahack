{
 "cells": [
  {
   "cell_type": "code",
   "execution_count": 17,
   "metadata": {},
   "outputs": [],
   "source": [
    "import pandas as pd\n",
    "import seaborn as sns\n",
    "import numpy as np"
   ]
  },
  {
   "cell_type": "code",
   "execution_count": 18,
   "metadata": {},
   "outputs": [],
   "source": [
    "train_data=pd.read_csv(\"train_BRCpofr.csv\")"
   ]
  },
  {
   "cell_type": "code",
   "execution_count": 19,
   "metadata": {},
   "outputs": [],
   "source": [
    "train_data.drop(\"id\",axis=1,inplace=True)"
   ]
  },
  {
   "cell_type": "code",
   "execution_count": 20,
   "metadata": {},
   "outputs": [
    {
     "name": "stdout",
     "output_type": "stream",
     "text": [
      "<class 'pandas.core.frame.DataFrame'>\n",
      "RangeIndex: 89392 entries, 0 to 89391\n",
      "Data columns (total 11 columns):\n",
      " #   Column          Non-Null Count  Dtype \n",
      "---  ------          --------------  ----- \n",
      " 0   gender          89392 non-null  object\n",
      " 1   area            89392 non-null  object\n",
      " 2   qualification   89392 non-null  object\n",
      " 3   income          89392 non-null  object\n",
      " 4   marital_status  89392 non-null  int64 \n",
      " 5   vintage         89392 non-null  int64 \n",
      " 6   claim_amount    89392 non-null  int64 \n",
      " 7   num_policies    89392 non-null  object\n",
      " 8   policy          89392 non-null  object\n",
      " 9   type_of_policy  89392 non-null  object\n",
      " 10  cltv            89392 non-null  int64 \n",
      "dtypes: int64(4), object(7)\n",
      "memory usage: 7.5+ MB\n"
     ]
    }
   ],
   "source": [
    "train_data.info()"
   ]
  },
  {
   "cell_type": "code",
   "execution_count": 21,
   "metadata": {},
   "outputs": [],
   "source": [
    "train_x=train_data.drop(\"cltv\",axis=1)\n",
    "train_y=train_data[\"cltv\"]"
   ]
  },
  {
   "cell_type": "code",
   "execution_count": 22,
   "metadata": {},
   "outputs": [],
   "source": [
    "from sklearn.model_selection import train_test_split\n",
    "xtrain,xtest,ytrain,ytest=train_test_split(train_x,train_y,test_size=0.2,random_state=42)"
   ]
  },
  {
   "cell_type": "code",
   "execution_count": 23,
   "metadata": {},
   "outputs": [],
   "source": [
    "from sklearn.preprocessing import StandardScaler\n",
    "scaler=StandardScaler()\n",
    "num_types=train_x.select_dtypes(include=\"number\").columns\n",
    "\n",
    "xtrain[num_types]=scaler.fit_transform(xtrain[num_types])\n",
    "xtest[num_types]=scaler.transform(xtest[num_types])"
   ]
  },
  {
   "cell_type": "code",
   "execution_count": 24,
   "metadata": {},
   "outputs": [],
   "source": [
    "from sklearn.preprocessing import LabelEncoder\n",
    "encoder=LabelEncoder()\n",
    "cat_types=train_x.select_dtypes(include=\"object\").columns\n",
    "\n",
    "for i in cat_types:\n",
    "    xtrain[i]=encoder.fit_transform(xtrain[i])\n",
    "    xtest[i]=encoder.transform(xtest[i])"
   ]
  },
  {
   "cell_type": "code",
   "execution_count": 25,
   "metadata": {},
   "outputs": [
    {
     "data": {
      "text/plain": [
       "0.15076589925311557"
      ]
     },
     "execution_count": 25,
     "metadata": {},
     "output_type": "execute_result"
    }
   ],
   "source": [
    "from sklearn.linear_model import LinearRegression\n",
    "regressor=LinearRegression()\n",
    "\n",
    "regressor.fit(xtrain,ytrain)\n",
    "\n",
    "pred=regressor.predict(xtest)\n",
    "\n",
    "from sklearn.metrics import r2_score\n",
    "r2_score(ytest,pred)"
   ]
  },
  {
   "cell_type": "code",
   "execution_count": 26,
   "metadata": {},
   "outputs": [
    {
     "data": {
      "text/plain": [
       "-0.7498987310112046"
      ]
     },
     "execution_count": 26,
     "metadata": {},
     "output_type": "execute_result"
    }
   ],
   "source": [
    "from sklearn.tree import DecisionTreeRegressor\n",
    "regressor=DecisionTreeRegressor()\n",
    "\n",
    "regressor.fit(xtrain,ytrain)\n",
    "\n",
    "pred=regressor.predict(xtest)\n",
    "\n",
    "from sklearn.metrics import r2_score\n",
    "r2_score(ytest,pred)"
   ]
  },
  {
   "cell_type": "code",
   "execution_count": 27,
   "metadata": {},
   "outputs": [],
   "source": [
    "# from sklearn.model_selection import  cross_val_score,KFold\n",
    "\n",
    "# regressor=LinearRegression()\n",
    "# k_folds = KFold(n_splits = 10)\n",
    "\n",
    "# scores = cross_val_score(regressor, xtrain, ytrain, cv = k_folds)\n",
    "\n",
    "# print(\"Cross Validation Scores: \", scores)\n",
    "# print(\"Average CV Score: \", scores.mean())\n",
    "# print(\"Number of CV Scores used in Average: \", len(scores))"
   ]
  },
  {
   "cell_type": "code",
   "execution_count": 28,
   "metadata": {},
   "outputs": [],
   "source": [
    "# train_x=train_data.drop(\"cltv\",axis=1)\n",
    "# train_y=train_data[\"cltv\"]\n",
    "# from sklearn.preprocessing import StandardScaler\n",
    "# scaler=StandardScaler()\n",
    "# num_types=train_x.select_dtypes(include=\"number\").columns\n",
    "\n",
    "# train_x[num_types]=scaler.fit_transform(train_x[num_types])\n",
    "# from sklearn.preprocessing import LabelEncoder\n",
    "# encoder=LabelEncoder()\n",
    "# cat_types=train_x.select_dtypes(include=\"object\").columns\n",
    "\n",
    "# for i in cat_types:\n",
    "#     train_x[i]=encoder.fit_transform(train_x[i])\n",
    "#     from sklearn.model_selection import  cross_val_score,KFold\n",
    "# from sklearn.ensemble import RandomForestRegressor\n",
    "# regressor=RandomForestRegressor()\n",
    "# k_folds = KFold(n_splits = 10)\n",
    "\n",
    "# scores = cross_val_score(regressor, train_x, train_y, cv = k_folds,scoring=\"r2\")\n",
    "\n",
    "# print(\"Cross Validation Scores: \", scores)\n",
    "# print(\"Average CV Score: \", scores.mean())\n",
    "# print(\"Number of CV Scores used in Average: \", len(scores))"
   ]
  },
  {
   "cell_type": "code",
   "execution_count": null,
   "metadata": {},
   "outputs": [],
   "source": []
  }
 ],
 "metadata": {
  "kernelspec": {
   "display_name": "mlenv",
   "language": "python",
   "name": "python3"
  },
  "language_info": {
   "codemirror_mode": {
    "name": "ipython",
    "version": 3
   },
   "file_extension": ".py",
   "mimetype": "text/x-python",
   "name": "python",
   "nbconvert_exporter": "python",
   "pygments_lexer": "ipython3",
   "version": "3.10.8 | packaged by conda-forge | (main, Nov 24 2022, 14:07:00) [MSC v.1916 64 bit (AMD64)]"
  },
  "orig_nbformat": 4,
  "vscode": {
   "interpreter": {
    "hash": "66053dae47dbd059ec9635f404fcd48802ca76de831bfab6d1194af0df80fd5f"
   }
  }
 },
 "nbformat": 4,
 "nbformat_minor": 2
}
